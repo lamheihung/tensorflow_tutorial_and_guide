{
  "nbformat": 4,
  "nbformat_minor": 0,
  "metadata": {
    "colab": {
      "name": "custom training: walk through.ipynb",
      "provenance": []
    },
    "kernelspec": {
      "name": "python3",
      "display_name": "Python 3"
    },
    "language_info": {
      "name": "python"
    }
  },
  "cells": [
    {
      "cell_type": "code",
      "metadata": {
        "id": "Kx9u0AsO2qLe"
      },
      "source": [
        "import os\n",
        "import matplotlib.pyplot as plt"
      ],
      "execution_count": 1,
      "outputs": []
    },
    {
      "cell_type": "code",
      "metadata": {
        "id": "jA8_Jmer2xR1"
      },
      "source": [
        "import tensorflow as tf"
      ],
      "execution_count": 2,
      "outputs": []
    },
    {
      "cell_type": "code",
      "metadata": {
        "colab": {
          "base_uri": "https://localhost:8080/"
        },
        "id": "W1hB3tbO2yaS",
        "outputId": "6337976c-eac6-4942-fffb-87262072a876"
      },
      "source": [
        "print(\"TensorFlow version: {}\".format(tf.__version__))\n",
        "print(\"Eager execution: {}\".format(tf.executing_eagerly()))"
      ],
      "execution_count": 3,
      "outputs": [
        {
          "output_type": "stream",
          "text": [
            "TensorFlow version: 2.4.1\n",
            "Eager execution: True\n"
          ],
          "name": "stdout"
        }
      ]
    },
    {
      "cell_type": "markdown",
      "metadata": {
        "id": "VpBFhNSb23Ek"
      },
      "source": [
        "# Dataset"
      ]
    },
    {
      "cell_type": "code",
      "metadata": {
        "colab": {
          "base_uri": "https://localhost:8080/"
        },
        "id": "ZPumFtPn20Ka",
        "outputId": "92a03769-5f73-4a10-ddb9-094cce4b008f"
      },
      "source": [
        "# The Iris classification problem\n",
        "train_dataset_url = \"https://storage.googleapis.com/download.tensorflow.org/data/iris_training.csv\"\n",
        "\n",
        "train_dataset_fp = tf.keras.utils.get_file(\n",
        "  fname='iris_training.csv',\n",
        "  origin=train_dataset_url,\n",
        "  cache_dir='.',\n",
        "  cache_subdir=''\n",
        ")\n",
        "\n",
        "print(\"Local copy of the dataset file: {}\".format(train_dataset_fp))"
      ],
      "execution_count": 4,
      "outputs": [
        {
          "output_type": "stream",
          "text": [
            "Downloading data from https://storage.googleapis.com/download.tensorflow.org/data/iris_training.csv\n",
            "\r8192/2194 [================================================================================================================] - 0s 0us/step\n",
            "Local copy of the dataset file: ./iris_training.csv\n"
          ],
          "name": "stdout"
        }
      ]
    },
    {
      "cell_type": "code",
      "metadata": {
        "colab": {
          "base_uri": "https://localhost:8080/"
        },
        "id": "Tj95wQly3IX3",
        "outputId": "d0e4c62f-9747-4eb3-f07f-a198a3253971"
      },
      "source": [
        "!head -n5 {train_dataset_fp}"
      ],
      "execution_count": 5,
      "outputs": [
        {
          "output_type": "stream",
          "text": [
            "120,4,setosa,versicolor,virginica\n",
            "6.4,2.8,5.6,2.2,2\n",
            "5.0,2.3,3.3,1.0,1\n",
            "4.9,2.5,4.5,1.7,2\n",
            "4.9,3.1,1.5,0.1,0\n"
          ],
          "name": "stdout"
        }
      ]
    },
    {
      "cell_type": "code",
      "metadata": {
        "colab": {
          "base_uri": "https://localhost:8080/"
        },
        "id": "lWMs83lT5HHK",
        "outputId": "b9cfc81e-5875-421d-ed39-babe91fb22a5"
      },
      "source": [
        "column_names = ['sepal_length', 'sepal_width', 'petal_length', 'petal_width', 'species']\n",
        "\n",
        "feature_names = column_names[:-1]\n",
        "label_name = column_names[-1]\n",
        "\n",
        "print(\"Features: {}\".format(feature_names))\n",
        "print(\"Label: {}\".format(label_name))"
      ],
      "execution_count": 6,
      "outputs": [
        {
          "output_type": "stream",
          "text": [
            "Features: ['sepal_length', 'sepal_width', 'petal_length', 'petal_width']\n",
            "Label: species\n"
          ],
          "name": "stdout"
        }
      ]
    },
    {
      "cell_type": "code",
      "metadata": {
        "id": "E4yamlpN5PyE"
      },
      "source": [
        "class_names = ['Iris setosa', 'Iris versicolor', 'Iris virginica']"
      ],
      "execution_count": 7,
      "outputs": []
    },
    {
      "cell_type": "code",
      "metadata": {
        "id": "1uXZI4cJ5WOa"
      },
      "source": [
        "batch_size = 32\n",
        "\n",
        "train_dataset = tf.data.experimental.make_csv_dataset(\n",
        "  train_dataset_fp,\n",
        "  batch_size,\n",
        "  column_names=column_names,\n",
        "  label_name=label_name,\n",
        "  num_epochs=1\n",
        ")"
      ],
      "execution_count": 8,
      "outputs": []
    },
    {
      "cell_type": "code",
      "metadata": {
        "colab": {
          "base_uri": "https://localhost:8080/"
        },
        "id": "JRapG8NA6Y72",
        "outputId": "0532bcd8-f324-47e5-f6a3-d80d5b7c7304"
      },
      "source": [
        "features, labels = next(iter(train_dataset))\n",
        "\n",
        "print(features)"
      ],
      "execution_count": 9,
      "outputs": [
        {
          "output_type": "stream",
          "text": [
            "OrderedDict([('sepal_length', <tf.Tensor: shape=(32,), dtype=float32, numpy=\n",
            "array([4.4, 6.9, 6.8, 5.8, 6.2, 6.1, 4.9, 5.5, 5.5, 5.7, 5.4, 5.1, 4.9,\n",
            "       5.7, 5.1, 5.4, 5.2, 4.6, 7.7, 7.9, 5.8, 6.6, 4.9, 6. , 5.1, 6.5,\n",
            "       6.4, 6.7, 6.7, 7.2, 7.2, 6.5], dtype=float32)>), ('sepal_width', <tf.Tensor: shape=(32,), dtype=float32, numpy=\n",
            "array([3.2, 3.1, 3. , 2.8, 2.2, 2.8, 3.1, 3.5, 2.4, 2.9, 3.7, 2.5, 3.1,\n",
            "       2.8, 3.8, 3.9, 3.5, 3.1, 2.6, 3.8, 4. , 3. , 2.4, 2.7, 3.8, 3. ,\n",
            "       3.2, 3. , 3.1, 3.6, 3.2, 3. ], dtype=float32)>), ('petal_length', <tf.Tensor: shape=(32,), dtype=float32, numpy=\n",
            "array([1.3, 4.9, 5.5, 5.1, 4.5, 4.7, 1.5, 1.3, 3.7, 4.2, 1.5, 3. , 1.5,\n",
            "       4.1, 1.9, 1.3, 1.5, 1.5, 6.9, 6.4, 1.2, 4.4, 3.3, 5.1, 1.5, 5.2,\n",
            "       5.3, 5.2, 5.6, 6.1, 6. , 5.5], dtype=float32)>), ('petal_width', <tf.Tensor: shape=(32,), dtype=float32, numpy=\n",
            "array([0.2, 1.5, 2.1, 2.4, 1.5, 1.2, 0.1, 0.2, 1. , 1.3, 0.2, 1.1, 0.1,\n",
            "       1.3, 0.4, 0.4, 0.2, 0.2, 2.3, 2. , 0.2, 1.4, 1. , 1.6, 0.3, 2. ,\n",
            "       2.3, 2.3, 2.4, 2.5, 1.8, 1.8], dtype=float32)>)])\n"
          ],
          "name": "stdout"
        }
      ]
    },
    {
      "cell_type": "code",
      "metadata": {
        "colab": {
          "base_uri": "https://localhost:8080/",
          "height": 279
        },
        "id": "0jvwRREJ6bbz",
        "outputId": "c30c776e-0e3c-403f-8328-d8b789f178fd"
      },
      "source": [
        "plt.scatter(features['petal_length'],\n",
        "            features['sepal_length'],\n",
        "            c=labels,\n",
        "            cmap='viridis')\n",
        "\n",
        "plt.xlabel(\"Petal length\")\n",
        "plt.ylabel(\"Sepal length\")\n",
        "plt.show()"
      ],
      "execution_count": 10,
      "outputs": [
        {
          "output_type": "display_data",
          "data": {
            "image/png": "[encoded data removed]",
            "text/plain": [
              "<Figure size 432x288 with 1 Axes>"
            ]
          },
          "metadata": {
            "tags": [],
            "needs_background": "light"
          }
        }
      ]
    },
    {
      "cell_type": "code",
      "metadata": {
        "id": "YOs0o0xG6eEq"
      },
      "source": [
        "def pack_features_vector(features, labels):\n",
        "  features = tf.stack(list(features.values()), axis=1)\n",
        "  return features, labels"
      ],
      "execution_count": 11,
      "outputs": []
    },
    {
      "cell_type": "code",
      "metadata": {
        "id": "CtbI4C2v7ODG"
      },
      "source": [
        "train_dataset = train_dataset.map(pack_features_vector)"
      ],
      "execution_count": 12,
      "outputs": []
    },
    {
      "cell_type": "code",
      "metadata": {
        "colab": {
          "base_uri": "https://localhost:8080/"
        },
        "id": "wATLtreh7RVG",
        "outputId": "a5709283-e372-4b8d-bb27-ed6dc2d1f55e"
      },
      "source": [
        "features, labels = next(iter(train_dataset))\n",
        "\n",
        "print(features[:5])\n",
        "print(len(features))"
      ],
      "execution_count": 13,
      "outputs": [
        {
          "output_type": "stream",
          "text": [
            "tf.Tensor(\n",
            "[[5.  3.3 1.4 0.2]\n",
            " [6.4 2.8 5.6 2.1]\n",
            " [5.  3.5 1.3 0.3]\n",
            " [4.7 3.2 1.3 0.2]\n",
            " [4.8 3.  1.4 0.1]], shape=(5, 4), dtype=float32)\n",
            "32\n"
          ],
          "name": "stdout"
        }
      ]
    },
    {
      "cell_type": "markdown",
      "metadata": {
        "id": "VmPeHMQe8XPw"
      },
      "source": [
        "# Model"
      ]
    },
    {
      "cell_type": "code",
      "metadata": {
        "id": "TfSDJwb47iL1"
      },
      "source": [
        "model = tf.keras.Sequential([\n",
        "  tf.keras.layers.Dense(10, activation='relu', input_shape=(4,)),\n",
        "  tf.keras.layers.Dense(10, activation='relu'),\n",
        "  tf.keras.layers.Dense(3)\n",
        "])"
      ],
      "execution_count": 14,
      "outputs": []
    },
    {
      "cell_type": "code",
      "metadata": {
        "colab": {
          "base_uri": "https://localhost:8080/"
        },
        "id": "2Bu9ctcm9IQ5",
        "outputId": "354b3314-5cf4-4d48-ec36-435b36f68775"
      },
      "source": [
        "predictions = model.predict(features)\n",
        "predictions[:5]"
      ],
      "execution_count": 15,
      "outputs": [
        {
          "output_type": "execute_result",
          "data": {
            "text/plain": [
              "array([[-1.8382711 , -0.43227234,  0.71146876],\n",
              "       [-1.5254368 ,  0.42139152, -0.28067064],\n",
              "       [-1.8785063 , -0.42147693,  0.7571022 ],\n",
              "       [-1.7519301 , -0.39416012,  0.68895364],\n",
              "       [-1.7361709 , -0.43284854,  0.65170354]], dtype=float32)"
            ]
          },
          "metadata": {
            "tags": []
          },
          "execution_count": 15
        }
      ]
    },
    {
      "cell_type": "code",
      "metadata": {
        "colab": {
          "base_uri": "https://localhost:8080/"
        },
        "id": "drzElIGJ9OjR",
        "outputId": "cbdbf5ee-2882-4aec-8f24-825d8d8ac1a5"
      },
      "source": [
        "tf.nn.softmax(predictions[:5])"
      ],
      "execution_count": 16,
      "outputs": [
        {
          "output_type": "execute_result",
          "data": {
            "text/plain": [
              "<tf.Tensor: shape=(5, 3), dtype=float32, numpy=\n",
              "array([[0.05591787, 0.22812249, 0.71595967],\n",
              "       [0.08711901, 0.61039317, 0.30248788],\n",
              "       [0.05196159, 0.22308081, 0.72495764],\n",
              "       [0.06108475, 0.23746781, 0.70144737],\n",
              "       [0.06421854, 0.23642103, 0.69936043]], dtype=float32)>"
            ]
          },
          "metadata": {
            "tags": []
          },
          "execution_count": 16
        }
      ]
    },
    {
      "cell_type": "code",
      "metadata": {
        "colab": {
          "base_uri": "https://localhost:8080/"
        },
        "id": "c1lcOZfG9WiV",
        "outputId": "2e95c148-232f-48a3-928e-cf74562fd267"
      },
      "source": [
        "print(\"Prediction: {}\".format(tf.argmax(predictions, axis=1)))\n",
        "print(\"    Labels: {}\".format(labels))"
      ],
      "execution_count": 17,
      "outputs": [
        {
          "output_type": "stream",
          "text": [
            "Prediction: [2 1 2 2 2 1 2 2 1 1 1 1 2 2 1 1 1 2 2 1 2 1 2 1 1 1 1 1 1 1 2 2]\n",
            "    Labels: [0 2 0 0 0 1 0 0 1 2 2 2 0 0 2 1 1 0 0 2 1 2 0 2 1 2 1 2 2 1 0 0]\n"
          ],
          "name": "stdout"
        }
      ]
    },
    {
      "cell_type": "markdown",
      "metadata": {
        "id": "CK6cYlHg9lIE"
      },
      "source": [
        "# Train"
      ]
    },
    {
      "cell_type": "code",
      "metadata": {
        "id": "6fPUsyyz9ZtD"
      },
      "source": [
        "def loss(model, x, y, training):\n",
        "  y_ = model(x, training=training)\n",
        "  return tf.keras.losses.SparseCategoricalCrossentropy(from_logits=True)(y_true=y, y_pred=y_)"
      ],
      "execution_count": 18,
      "outputs": []
    },
    {
      "cell_type": "code",
      "metadata": {
        "colab": {
          "base_uri": "https://localhost:8080/"
        },
        "id": "mwcICZJp97gC",
        "outputId": "f1efbef4-1d36-42e5-9d14-0ab331a76eea"
      },
      "source": [
        "l = loss(model, features, labels, training=False)\n",
        "print(\"Loss test: {}\".format(l))"
      ],
      "execution_count": 19,
      "outputs": [
        {
          "output_type": "stream",
          "text": [
            "Loss test: 1.782804012298584\n"
          ],
          "name": "stdout"
        }
      ]
    },
    {
      "cell_type": "code",
      "metadata": {
        "id": "lP6OrLYi-BbH"
      },
      "source": [
        "def grad(model, inputs, targets):\n",
        "  with tf.GradientTape() as tape:\n",
        "    loss_value = loss(model, inputs, targets, training=True)\n",
        "  return loss_value, tape.gradient(loss_value, model.trainable_variables)"
      ],
      "execution_count": 20,
      "outputs": []
    },
    {
      "cell_type": "code",
      "metadata": {
        "id": "bAfjP3iD_Dhi"
      },
      "source": [
        "optimizer = tf.keras.optimizers.SGD(learning_rate=0.01)"
      ],
      "execution_count": 21,
      "outputs": []
    },
    {
      "cell_type": "code",
      "metadata": {
        "colab": {
          "base_uri": "https://localhost:8080/"
        },
        "id": "XrTw9j3o_cNE",
        "outputId": "7f6e0084-c8e0-41e0-c358-f62f495e6719"
      },
      "source": [
        "loss_value, grads = grad(model, features, labels)\n",
        "\n",
        "print(\"Step: {}, Initial Loss: {}\".format(optimizer.iterations.numpy(),\n",
        "                       loss_value.numpy()))"
      ],
      "execution_count": 22,
      "outputs": [
        {
          "output_type": "stream",
          "text": [
            "Step: 0, Initial Loss: 1.782804012298584\n"
          ],
          "name": "stdout"
        }
      ]
    },
    {
      "cell_type": "code",
      "metadata": {
        "colab": {
          "base_uri": "https://localhost:8080/"
        },
        "id": "-yBbehI6_iH7",
        "outputId": "6a892928-4316-4bc3-f7f8-87a2102ab111"
      },
      "source": [
        "optimizer.apply_gradients(zip(grads, model.trainable_variables))\n",
        "\n",
        "print(\"Step: {},         Loss: {}\".format(optimizer.iterations.numpy(),\n",
        "                          loss(model, features, labels, training=True).numpy()))"
      ],
      "execution_count": 23,
      "outputs": [
        {
          "output_type": "stream",
          "text": [
            "Step: 1,         Loss: 1.6442241668701172\n"
          ],
          "name": "stdout"
        }
      ]
    },
    {
      "cell_type": "code",
      "metadata": {
        "colab": {
          "base_uri": "https://localhost:8080/"
        },
        "id": "mVipCIxw_svy",
        "outputId": "6e4afd3d-a8d1-4f87-f3aa-45731d918685"
      },
      "source": [
        "train_loss_results = []\n",
        "train_accuracy_results = []\n",
        "\n",
        "num_epochs = 201\n",
        "\n",
        "for epoch in range(num_epochs):\n",
        "  epoch_loss_avg = tf.keras.metrics.Mean()\n",
        "  epoch_accuracy = tf.keras.metrics.SparseCategoricalAccuracy()\n",
        "\n",
        "  # Training loop - using batches of 32\n",
        "  for x, y in train_dataset:\n",
        "    # Optimize the model\n",
        "    loss_value, grads = grad(model, x, y)\n",
        "    optimizer.apply_gradients(zip(grads, model.trainable_variables))\n",
        "\n",
        "    # Track progress\n",
        "    epoch_loss_avg.update_state(loss_value)\n",
        "    epoch_accuracy.update_state(y, model(x, training=True))\n",
        "\n",
        "  # End epoch\n",
        "  train_loss_results.append(epoch_loss_avg.result())\n",
        "  train_accuracy_results.append(epoch_accuracy.result())\n",
        "\n",
        "  if epoch % 50 == 0:\n",
        "    print(\"Epoch {:03d}: Loss: {:.3f}, Accuracy: {:.3%}\".format(epoch,\n",
        "                                    epoch_loss_avg.result(),\n",
        "                                    epoch_accuracy.result()))"
      ],
      "execution_count": 24,
      "outputs": [
        {
          "output_type": "stream",
          "text": [
            "Epoch 000: Loss: 1.419, Accuracy: 30.000%\n",
            "Epoch 050: Loss: 0.345, Accuracy: 95.833%\n",
            "Epoch 100: Loss: 0.222, Accuracy: 96.667%\n",
            "Epoch 150: Loss: 0.155, Accuracy: 96.667%\n",
            "Epoch 200: Loss: 0.120, Accuracy: 98.333%\n"
          ],
          "name": "stdout"
        }
      ]
    },
    {
      "cell_type": "code",
      "metadata": {
        "colab": {
          "base_uri": "https://localhost:8080/",
          "height": 558
        },
        "id": "qklckG__BB_5",
        "outputId": "5a590a08-8240-4d5c-f58d-93eec565d7c0"
      },
      "source": [
        "fig, axes = plt.subplots(2, sharex=True, figsize=(12, 8))\n",
        "fig.suptitle('Training Metrics')\n",
        "\n",
        "axes[0].set_ylabel(\"Loss\", fontsize=14)\n",
        "axes[0].plot(train_loss_results)\n",
        "\n",
        "axes[1].set_ylabel(\"Accuracy\", fontsize=14)\n",
        "axes[1].set_xlabel(\"Epoch\", fontsize=14)\n",
        "axes[1].plot(train_accuracy_results)\n",
        "plt.show()"
      ],
      "execution_count": 25,
      "outputs": [
        {
          "output_type": "display_data",
          "data": {
            "image/png": "[encoded data removed]",
            "text/plain": [
              "<Figure size 864x576 with 2 Axes>"
            ]
          },
          "metadata": {
            "tags": [],
            "needs_background": "light"
          }
        }
      ]
    },
    {
      "cell_type": "markdown",
      "metadata": {
        "id": "3KrnCDvICiHK"
      },
      "source": [
        "# Test"
      ]
    },
    {
      "cell_type": "code",
      "metadata": {
        "colab": {
          "base_uri": "https://localhost:8080/"
        },
        "id": "SxKtHcAfBxYS",
        "outputId": "0a57b54c-0069-40ce-e3c7-0aa0760bfc9a"
      },
      "source": [
        "# The Iris classification problem\n",
        "test_dataset_url = \"https://storage.googleapis.com/download.tensorflow.org/data/iris_test.csv\"\n",
        "\n",
        "test_dataset_fp = tf.keras.utils.get_file(\n",
        "  fname='iris_test.csv',\n",
        "  origin=train_dataset_url,\n",
        "  cache_dir='.',\n",
        "  cache_subdir=''\n",
        ")\n",
        "\n",
        "print(\"Local copy of the dataset file: {}\".format(test_dataset_fp))"
      ],
      "execution_count": 26,
      "outputs": [
        {
          "output_type": "stream",
          "text": [
            "Downloading data from https://storage.googleapis.com/download.tensorflow.org/data/iris_training.csv\n",
            "\r8192/2194 [================================================================================================================] - 0s 0us/step\n",
            "Local copy of the dataset file: ./iris_test.csv\n"
          ],
          "name": "stdout"
        }
      ]
    },
    {
      "cell_type": "code",
      "metadata": {
        "id": "nC0by9eRCrCl"
      },
      "source": [
        "test_dataset = tf.data.experimental.make_csv_dataset(\n",
        "  test_dataset_fp,\n",
        "  batch_size=batch_size,\n",
        "  column_names=column_names,\n",
        "  label_name=label_name,\n",
        "  num_epochs=1,\n",
        "  shuffle=False\n",
        ")\n",
        "\n",
        "test_dataset = test_dataset.map(pack_features_vector)"
      ],
      "execution_count": 27,
      "outputs": []
    },
    {
      "cell_type": "code",
      "metadata": {
        "colab": {
          "base_uri": "https://localhost:8080/"
        },
        "id": "XBTfSg4UC3T3",
        "outputId": "5d655624-179a-4c55-9677-3c22e729fa88"
      },
      "source": [
        "test_accuracy = tf.keras.metrics.Accuracy()\n",
        "\n",
        "for (x, y) in test_dataset:\n",
        "  logits=model(x, training=False)\n",
        "  prediction = tf.argmax(logits, axis=1, output_type=tf.int32)\n",
        "  test_accuracy(prediction, y)\n",
        "\n",
        "print(\"Test set accuracy: {:.3%}\".format(test_accuracy.result()))"
      ],
      "execution_count": 28,
      "outputs": [
        {
          "output_type": "stream",
          "text": [
            "Test set accuracy: 97.500%\n"
          ],
          "name": "stdout"
        }
      ]
    }
  ]
}